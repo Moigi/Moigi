{
  "nbformat": 4,
  "nbformat_minor": 0,
  "metadata": {
    "colab": {
      "provenance": [],
      "mount_file_id": "https://github.com/Moigi/Moigi/blob/main/ANN.ipynb",
      "authorship_tag": "ABX9TyORRlzpzFX0Or6j6avkBnVW",
      "include_colab_link": true
    },
    "kernelspec": {
      "name": "python3",
      "display_name": "Python 3"
    },
    "language_info": {
      "name": "python"
    }
  },
  "cells": [
    {
      "cell_type": "markdown",
      "metadata": {
        "id": "view-in-github",
        "colab_type": "text"
      },
      "source": [
        "<a href=\"https://colab.research.google.com/github/Moigi/Moigi/blob/main/ANN.ipynb\" target=\"_parent\"><img src=\"https://colab.research.google.com/assets/colab-badge.svg\" alt=\"Open In Colab\"/></a>"
      ]
    },
    {
      "cell_type": "code",
      "source": [
        "import pandas as pd\n",
        "import matplotlib.pyplot as plt\n",
        "import seaborn as sns\n",
        "import numpy as np\n",
        "import tensorflow as tf\n",
        "from keras.models import Sequential\n",
        "from keras.layers import Dense\n",
        "from sklearn.model_selection import StratifiedKFold\n",
        "from sklearn.metrics import accuracy_score,precision_score,recall_score,confusion_matrix\n",
        "from sklearn.model_selection import train_test_split\n",
        "from sklearn.preprocessing import LabelEncoder\n",
        "pd.set_option(\"display.max_columns\", None)\n",
        "pd.set_option(\"display.max_rows\", None)\n",
        "pd.options.display.max_colwidth=1000"
      ],
      "metadata": {
        "id": "1xvhxiPSdpVh"
      },
      "execution_count": 67,
      "outputs": []
    },
    {
      "cell_type": "code",
      "source": [
        "# Load data\n",
        "path = r'/content/drive/MyDrive/Colab Notebooks/HR-Employee-Attrition.csv'\n",
        "data = pd.read_csv(path, encoding='unicode_escape')"
      ],
      "metadata": {
        "id": "KdlgdGFHeKtI"
      },
      "execution_count": 68,
      "outputs": []
    },
    {
      "cell_type": "code",
      "source": [
        "#data.head()"
      ],
      "metadata": {
        "id": "sFY6PXrMewBa"
      },
      "execution_count": 27,
      "outputs": []
    },
    {
      "cell_type": "markdown",
      "source": [
        "##Converting categorical variables into numeric"
      ],
      "metadata": {
        "id": "kMPO6bd1kDFA"
      }
    },
    {
      "cell_type": "code",
      "source": [
        "#getting all categorical columns\n",
        "cat_columns = data.select_dtypes(['object']).columns\n",
        "\n",
        "#converting all categorical columns to numeric\n",
        "data[cat_columns] = data[cat_columns].apply(lambda x: pd.factorize(x)[0])"
      ],
      "metadata": {
        "id": "stphJGoAjvAi"
      },
      "execution_count": 69,
      "outputs": []
    },
    {
      "cell_type": "code",
      "source": [
        "#data.head()"
      ],
      "metadata": {
        "id": "Z_OK9FMMj646"
      },
      "execution_count": 28,
      "outputs": []
    },
    {
      "cell_type": "code",
      "source": [
        "# Separating predictor variabes (X) and response variable (y)\n",
        "X = data.drop(columns=['Attrition'])\n",
        "x = X.to_numpy()\n",
        "Y = data['Attrition']\n",
        "y = Y.to_numpy()"
      ],
      "metadata": {
        "id": "2HRiArLjfESQ"
      },
      "execution_count": 70,
      "outputs": []
    },
    {
      "cell_type": "code",
      "source": [
        "# define 5-fold cross validation test harness\n",
        "kfold = StratifiedKFold(n_splits=5, shuffle=True, random_state=42)\n",
        "cvscores = []\n",
        "for train,test in kfold.split(x,y):\n",
        "  # create model\n",
        "    classifier = Sequential()\n",
        "    classifier.add(Dense(12, input_dim=34, activation='relu'))\n",
        "    classifier.add(Dense( 8,activation='relu'))\n",
        "    classifier.add(Dense(1, activation='sigmoid'))\n",
        "    # Compile model\n",
        "    classifier.compile(loss='binary_crossentropy', optimizer='adam', metrics=['accuracy'])\n",
        "    # Fit the model\n",
        "    classifier.fit(x[train], y[train], epochs=150, batch_size=10, verbose=0)\n",
        "    # evaluate the model\n",
        "    scores =  classifier.evaluate(x[test], y[test], verbose=0)\n",
        "    print(\"%s: %.2f%%\" % (model.metrics_names[1], scores[1]*100))\n",
        "    cvscores.append(scores[1] * 100)\n",
        "print(\"%.2f%% (+/- %.2f%%)\" % (np.mean(cvscores), np.std(cvscores)))"
      ],
      "metadata": {
        "colab": {
          "base_uri": "https://localhost:8080/"
        },
        "id": "PCjhxlGkFp86",
        "outputId": "7c6ca7be-b8b2-4b46-a400-ea718c5f4d14"
      },
      "execution_count": 77,
      "outputs": [
        {
          "output_type": "stream",
          "name": "stdout",
          "text": [
            "accuracy: 83.67%\n",
            "accuracy: 78.57%\n",
            "accuracy: 84.01%\n",
            "accuracy: 84.35%\n",
            "accuracy: 70.41%\n",
            "80.20% (+/- 5.34%)\n"
          ]
        }
      ]
    },
    {
      "cell_type": "code",
      "source": [],
      "metadata": {
        "id": "C3sbOYogFp4h"
      },
      "execution_count": null,
      "outputs": []
    },
    {
      "cell_type": "code",
      "source": [
        "y_pred = classifier.predict(x[test])\n",
        "y_pred = (y_pred > 0.5)\n",
        "cm = confusion_matrix(y[test], y_pred)\n",
        "p = sns.heatmap(pd.DataFrame(cm), annot=True, cmap=\"YlGnBu\" ,fmt='g')\n",
        "plt.title('Confusion matrix', y=1.1)\n",
        "plt.ylabel('Actual label')\n",
        "plt.xlabel('Predicted label')"
      ],
      "metadata": {
        "colab": {
          "base_uri": "https://localhost:8080/",
          "height": 544
        },
        "id": "ecq_qIKN5lge",
        "outputId": "8c23b0b3-3be2-4031-d670-f42469c8107e"
      },
      "execution_count": 78,
      "outputs": [
        {
          "output_type": "stream",
          "name": "stdout",
          "text": [
            "10/10 [==============================] - 0s 2ms/step\n"
          ]
        },
        {
          "output_type": "execute_result",
          "data": {
            "text/plain": [
              "Text(0.5, 23.52222222222222, 'Predicted label')"
            ]
          },
          "metadata": {},
          "execution_count": 78
        },
        {
          "output_type": "display_data",
          "data": {
            "text/plain": [
              "<Figure size 640x480 with 2 Axes>"
            ],
            "image/png": "[encoded data removed]"
          },
          "metadata": {}
        }
      ]
    },
    {
      "cell_type": "code",
      "source": [
        "from google.colab import drive\n",
        "drive.mount('/content/drive')"
      ],
      "metadata": {
        "colab": {
          "base_uri": "https://localhost:8080/"
        },
        "id": "83dWhzAQnCY5",
        "outputId": "54df671d-d0aa-44c7-c219-1e37137447f2"
      },
      "execution_count": null,
      "outputs": [
        {
          "output_type": "stream",
          "name": "stdout",
          "text": [
            "Mounted at /content/drive\n"
          ]
        }
      ]
    }
  ]
}